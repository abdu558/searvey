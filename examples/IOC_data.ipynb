{
 "cells": [
  {
   "cell_type": "code",
   "execution_count": null,
   "id": "0",
   "metadata": {
    "tags": []
   },
   "outputs": [],
   "source": [
    "import logging\n",
    "\n",
    "import hvplot.pandas\n",
    "import geopandas as gpd\n",
    "import matplotlib.pyplot as plt\n",
    "import pandas as pd\n",
    "import shapely\n",
    "import xarray as xr\n",
    "\n",
    "import searvey"
   ]
  },
  {
   "cell_type": "markdown",
   "id": "1",
   "metadata": {
    "tags": []
   },
   "source": [
    "## Retrieve Station Metadata\n",
    "\n",
    "In order to retrieve station metadata we need to use the `get_ioc_stations()` function:"
   ]
  },
  {
   "cell_type": "code",
   "execution_count": null,
   "id": "2",
   "metadata": {
    "tags": []
   },
   "outputs": [],
   "source": [
    "ioc_stations = searvey.get_ioc_stations()\n",
    "len(ioc_stations)"
   ]
  },
  {
   "cell_type": "code",
   "execution_count": null,
   "id": "3",
   "metadata": {
    "tags": []
   },
   "outputs": [],
   "source": [
    "ioc_stations.sample(3).sort_index()"
   ]
  },
  {
   "cell_type": "code",
   "execution_count": null,
   "id": "4",
   "metadata": {
    "tags": []
   },
   "outputs": [],
   "source": [
    "ioc_stations.columns"
   ]
  },
  {
   "cell_type": "code",
   "execution_count": null,
   "id": "5",
   "metadata": {
    "tags": []
   },
   "outputs": [],
   "source": [
    "world_plot = ioc_stations.hvplot(geo=True, tiles=True, hover_cols=[\"ioc_code\", \"location\"])\n",
    "world_plot.opts(width=800, height=500)"
   ]
  },
  {
   "cell_type": "markdown",
   "id": "6",
   "metadata": {
    "tags": []
   },
   "source": [
    "## Retrieve station metadata from arbitrary polygon\n",
    "\n",
    "We can filter the IOC stations using any shapely object. E.g. to only select stations in the East Coast of US:"
   ]
  },
  {
   "cell_type": "code",
   "execution_count": null,
   "id": "7",
   "metadata": {
    "tags": []
   },
   "outputs": [],
   "source": [
    "east_coast = shapely.geometry.box(-85, 25, -65, 45)\n",
    "east_stations = searvey.get_ioc_stations(region=east_coast)\n",
    "len(east_stations)"
   ]
  },
  {
   "cell_type": "code",
   "execution_count": null,
   "id": "8",
   "metadata": {
    "tags": []
   },
   "outputs": [],
   "source": [
    "east_stations.hvplot.points(geo=True, tiles=True)"
   ]
  },
  {
   "cell_type": "markdown",
   "id": "9",
   "metadata": {},
   "source": [
    "## Retrieve IOC station data\n",
    "\n",
    "The function for retrieving data is called `fetch_ioc_station()`. \n",
    "\n",
    "In its simplest form it only requires the station_id (i.e. IOC_CODE) and it will retrieve the last week of data:"
   ]
  },
  {
   "cell_type": "code",
   "execution_count": null,
   "id": "10",
   "metadata": {},
   "outputs": [],
   "source": [
    "df = searvey.fetch_ioc_station(\"acap2\")\n",
    "df"
   ]
  },
  {
   "cell_type": "markdown",
   "id": "11",
   "metadata": {},
   "source": [
    "We can also explicitly specify the start and the end date. E.g. to retrieve the first 10 days of May 2024:"
   ]
  },
  {
   "cell_type": "code",
   "execution_count": null,
   "id": "12",
   "metadata": {},
   "outputs": [],
   "source": [
    "df = searvey.fetch_ioc_station(\n",
    "    station_id=\"alva\",\n",
    "    start_date=pd.Timestamp(\"2024-05-01\"),\n",
    "    end_date=pd.Timestamp(\"2024-05-10\"),\n",
    "    progress_bar=False,\n",
    ")\n",
    "df"
   ]
  },
  {
   "cell_type": "markdown",
   "id": "13",
   "metadata": {},
   "source": [
    "If we request more than 30 days, then multiple HTTP requests are send to the IOC servers via multithreading and the responses are merged to a single dataframe. \n",
    "\n",
    "In this case, setting `progress_bar=True` can be useful in monitoring the progress of HTTP requests. \n",
    "For example to retrieve data for the first 6 months of 2020:"
   ]
  },
  {
   "cell_type": "code",
   "execution_count": null,
   "id": "14",
   "metadata": {},
   "outputs": [],
   "source": [
    "df = searvey.fetch_ioc_station(\n",
    "    station_id=\"alva\",\n",
    "    start_date=pd.Timestamp(\"2020-01-01\"),\n",
    "    end_date=pd.Timestamp(\"2020-06-01\"),\n",
    "    progress_bar=True,\n",
    ")\n",
    "df"
   ]
  },
  {
   "cell_type": "markdown",
   "id": "15",
   "metadata": {},
   "source": [
    "Keep in mind that each IOC station may return dataframes with different sensors/columns. For example the station in Bahamas returns a bunch of them:"
   ]
  },
  {
   "cell_type": "code",
   "execution_count": null,
   "id": "16",
   "metadata": {},
   "outputs": [],
   "source": [
    "bahamas = searvey.fetch_ioc_station(\n",
    "    station_id=\"setp1\",\n",
    "    start_date=pd.Timestamp(\"2020-05-25\"),\n",
    "    end_date=pd.Timestamp(\"2020-05-30\"),\n",
    "    progress_bar=False,\n",
    ")\n",
    "bahamas"
   ]
  },
  {
   "cell_type": "markdown",
   "id": "17",
   "metadata": {},
   "source": [
    "Furthermore, not all of these timeseries are ready to be used. \n",
    "\n",
    "E.g. we see that in the last days of May the `rad` sensor was offline for some time:"
   ]
  },
  {
   "cell_type": "code",
   "execution_count": null,
   "id": "18",
   "metadata": {},
   "outputs": [],
   "source": [
    "bahamas.rad.hvplot()"
   ]
  }
 ],
 "metadata": {
  "kernelspec": {
   "display_name": "searvey",
   "language": "python",
   "name": "searvey"
  },
  "language_info": {
   "codemirror_mode": {
    "name": "ipython",
    "version": 3
   },
   "file_extension": ".py",
   "mimetype": "text/x-python",
   "name": "python",
   "nbconvert_exporter": "python",
   "pygments_lexer": "ipython3",
   "version": "3.11.9"
  }
 },
 "nbformat": 4,
 "nbformat_minor": 5
}
