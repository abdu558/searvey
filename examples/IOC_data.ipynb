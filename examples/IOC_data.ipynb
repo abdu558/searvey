{
 "cells": [
  {
   "cell_type": "code",
   "execution_count": null,
   "id": "0",
   "metadata": {
    "tags": []
   },
   "outputs": [],
   "source": [
    "import logging\n",
    "\n",
    "import shapely\n",
    "import geopandas as gpd\n",
    "import matplotlib.pyplot as plt\n",
    "import pandas as pd\n",
    "import xarray as xr\n",
    "\n",
    "from searvey import ioc\n",
    "\n",
    "logging.basicConfig(\n",
    "    level=20,\n",
    "    style=\"{\",\n",
    "    format=\"{asctime:s}; {levelname:8s}; {threadName:23s}; {name:<25s} {lineno:5d}; {message:s}\",\n",
    ")\n",
    "\n",
    "logging.getLogger(\"urllib3\").setLevel(30)\n",
    "logging.getLogger(\"parso\").setLevel(30)\n",
    "\n",
    "logger = logging.getLogger(__name__)"
   ]
  },
  {
   "cell_type": "markdown",
   "id": "1",
   "metadata": {
    "tags": []
   },
   "source": [
    "## Retrieve Station Metadata"
   ]
  },
  {
   "cell_type": "code",
   "execution_count": null,
   "id": "2",
   "metadata": {
    "tags": []
   },
   "outputs": [],
   "source": [
    "ioc_stations = ioc.get_ioc_stations()\n",
    "ioc_stations"
   ]
  },
  {
   "cell_type": "code",
   "execution_count": null,
   "id": "3",
   "metadata": {
    "tags": []
   },
   "outputs": [],
   "source": [
    "figure, axis = plt.subplots(1, 1)\n",
    "figure.set_size_inches(12, 12 / 1.61803398875)\n",
    "\n",
    "countries = gpd.read_file(gpd.datasets.get_path('naturalearth_lowres'))\n",
    "_ = countries.plot(color='lightgrey', ax=axis, zorder=-1)\n",
    "_ = ioc_stations.plot(ax=axis)\n",
    "_ = axis.set_title(f'all IOC stations')"
   ]
  },
  {
   "cell_type": "code",
   "execution_count": null,
   "id": "4",
   "metadata": {
    "tags": []
   },
   "outputs": [],
   "source": [
    "ioc_stations.columns"
   ]
  },
  {
   "cell_type": "markdown",
   "id": "5",
   "metadata": {
    "tags": []
   },
   "source": [
    "## Retrieve station metadata from arbitrary polygon"
   ]
  },
  {
   "cell_type": "code",
   "execution_count": null,
   "id": "6",
   "metadata": {
    "tags": []
   },
   "outputs": [],
   "source": [
    "east_coast = shapely.geometry.box(-85, 25, -65, 45)\n",
    "east_coast\n",
    "\n",
    "east_stations = ioc.get_ioc_stations(region=east_coast)\n",
    "east_stations"
   ]
  },
  {
   "cell_type": "code",
   "execution_count": null,
   "id": "7",
   "metadata": {
    "tags": []
   },
   "outputs": [],
   "source": [
    "east_stations[~east_stations.contacts.str.contains(\"NOAA\", na=False)]"
   ]
  },
  {
   "cell_type": "markdown",
   "id": "8",
   "metadata": {},
   "source": [
    "## Retrieve IOC station data"
   ]
  },
  {
   "cell_type": "code",
   "execution_count": null,
   "id": "9",
   "metadata": {
    "tags": []
   },
   "outputs": [],
   "source": [
    "east_data = ioc.get_ioc_data(\n",
    "    ioc_metadata=east_stations,\n",
    "    endtime=\"2020-05-30\",\n",
    "    period=3,\n",
    ")\n",
    "east_data"
   ]
  },
  {
   "cell_type": "code",
   "execution_count": null,
   "id": "10",
   "metadata": {
    "tags": []
   },
   "outputs": [],
   "source": [
    "def drop_all_nan_vars(ds: xr.Dataset) -> xr.Dataset:\n",
    "    for var in ds.data_vars:\n",
    "        if ds[var].notnull().sum() == 0:\n",
    "            ds = ds.drop_vars(var)\n",
    "    return ds\n",
    "\n",
    "ds = drop_all_nan_vars(east_data.sel(ioc_code=\"setp1\"))\n",
    "ds"
   ]
  },
  {
   "cell_type": "markdown",
   "id": "11",
   "metadata": {
    "tags": []
   },
   "source": [
    "As you can see not all the data are suitable for use...\n",
    "\n",
    "More specifically, the `rad` seems to have been re-calibrated in the afternoon of 2020-05-28:"
   ]
  },
  {
   "cell_type": "code",
   "execution_count": null,
   "id": "12",
   "metadata": {
    "tags": []
   },
   "outputs": [],
   "source": [
    "fix, axes = plt.subplots(1, 1)\n",
    "\n",
    "_ = ds.prs.plot(ax=axes, label=\"prs\")\n",
    "_ = ds.rad.plot(ax=axes, label=\"rad\")\n",
    "_ = ds.ra2.plot(ax=axes, label=\"ra2\")\n",
    "axes.legend()"
   ]
  },
  {
   "cell_type": "markdown",
   "id": "13",
   "metadata": {
    "tags": []
   },
   "source": [
    "Similarly some stations might have missing data"
   ]
  },
  {
   "cell_type": "code",
   "execution_count": null,
   "id": "14",
   "metadata": {
    "tags": []
   },
   "outputs": [],
   "source": [
    "bahamas = ds.where(ds.country == \"Bahamas\")\n",
    "bahamas"
   ]
  },
  {
   "cell_type": "code",
   "execution_count": null,
   "id": "15",
   "metadata": {},
   "outputs": [],
   "source": [
    "bahamas.ra2.plot()"
   ]
  },
  {
   "cell_type": "markdown",
   "id": "16",
   "metadata": {
    "tags": []
   },
   "source": [
    "Trying to fill the missing values is not that difficult, but you probably need to review the results"
   ]
  },
  {
   "cell_type": "code",
   "execution_count": null,
   "id": "17",
   "metadata": {
    "tags": []
   },
   "outputs": [],
   "source": [
    "bahamas.ra2.interpolate_na(dim=\"time\", method=\"linear\").plot()"
   ]
  }
 ],
 "metadata": {
  "kernelspec": {
   "display_name": "Python 3 (ipykernel)",
   "language": "python",
   "name": "python3"
  },
  "language_info": {
   "codemirror_mode": {
    "name": "ipython",
    "version": 3
   },
   "file_extension": ".py",
   "mimetype": "text/x-python",
   "name": "python",
   "nbconvert_exporter": "python",
   "pygments_lexer": "ipython3",
   "version": "3.11.9"
  }
 },
 "nbformat": 4,
 "nbformat_minor": 5
}
